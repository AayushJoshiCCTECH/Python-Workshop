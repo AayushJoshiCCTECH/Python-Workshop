{
 "cells": [
  {
   "cell_type": "code",
   "execution_count": 1,
   "id": "3717b779-13a4-4568-9b4c-fbff437c72af",
   "metadata": {},
   "outputs": [
    {
     "name": "stdout",
     "output_type": "stream",
     "text": [
      "12\n"
     ]
    }
   ],
   "source": [
    "a = 12\n",
    "print(a)"
   ]
  },
  {
   "cell_type": "code",
   "execution_count": 1,
   "id": "27b7368f-8444-4eff-89c6-b49ad808f477",
   "metadata": {},
   "outputs": [
    {
     "name": "stdout",
     "output_type": "stream",
     "text": [
      "0 1 2 3 4 5 6 7 8 9 10 11 "
     ]
    }
   ],
   "source": [
    "for  i in range(12):\n",
    "    print(i,end=\" \")"
   ]
  },
  {
   "cell_type": "code",
   "execution_count": 7,
   "id": "5fe534dd",
   "metadata": {},
   "outputs": [
    {
     "name": "stdout",
     "output_type": "stream",
     "text": [
      "i =  1 j =  2\n",
      "i =  1 j =  4\n",
      "i =  3 j =  2\n",
      "i =  3 j =  4\n",
      "i =  5 j =  2\n",
      "i =  5 j =  4\n",
      "i =  7 j =  2\n",
      "i =  7 j =  4\n",
      "i =  9 j =  2\n",
      "i =  9 j =  4\n"
     ]
    }
   ],
   "source": [
    "for i in range(1,10,2):\n",
    "    for j in range(2,6,2):\n",
    "        print(\"i = \" , i, \"j = \", j, end = \"\\n\")"
   ]
  },
  {
   "cell_type": "code",
   "execution_count": 8,
   "id": "e104e8df",
   "metadata": {},
   "outputs": [
    {
     "name": "stdout",
     "output_type": "stream",
     "text": [
      "This is a sample string \n"
     ]
    }
   ],
   "source": [
    "string = \"This is a sample string \"\n",
    "print(string)"
   ]
  },
  {
   "cell_type": "code",
   "execution_count": 10,
   "id": "61fb4269",
   "metadata": {},
   "outputs": [
    {
     "name": "stdout",
     "output_type": "stream",
     "text": [
      "This is a sample string \n"
     ]
    }
   ],
   "source": [
    "string2 = f\"{string}\"\n",
    "print(string2)"
   ]
  },
  {
   "cell_type": "code",
   "execution_count": 11,
   "id": "daa988f4",
   "metadata": {},
   "outputs": [
    {
     "name": "stdout",
     "output_type": "stream",
     "text": [
      "This is a sample string This is a sample string \n"
     ]
    }
   ],
   "source": [
    "str = string2 + string\n",
    "print(str)"
   ]
  },
  {
   "cell_type": "code",
   "execution_count": 18,
   "id": "0c47031d",
   "metadata": {},
   "outputs": [
    {
     "name": "stdout",
     "output_type": "stream",
     "text": [
      "This is a sample string 22\n"
     ]
    }
   ],
   "source": [
    "str3 = string + \"22\"\n",
    "print(str3)"
   ]
  },
  {
   "cell_type": "code",
   "execution_count": 30,
   "id": "4e723032",
   "metadata": {},
   "outputs": [
    {
     "name": "stdout",
     "output_type": "stream",
     "text": [
      "12  X  1  =  12\n",
      "12  X  2  =  1212\n",
      "12  X  3  =  121212\n",
      "12  X  4  =  12121212\n",
      "12  X  5  =  1212121212\n",
      "12  X  6  =  121212121212\n",
      "12  X  7  =  12121212121212\n",
      "12  X  8  =  1212121212121212\n",
      "12  X  9  =  121212121212121212\n",
      "12  X  10  =  12121212121212121212\n"
     ]
    }
   ],
   "source": [
    "table = input(\"Which table you want to print :\")\n",
    "# table = 12\n",
    "for i in range (1,11):\n",
    "   print(table, \" X \", i, \" = \", table*i)\n"
   ]
  },
  {
   "cell_type": "code",
   "execution_count": 22,
   "id": "2bfe7e35",
   "metadata": {},
   "outputs": [
    {
     "name": "stdout",
     "output_type": "stream",
     "text": [
      "Damm it works\n"
     ]
    }
   ],
   "source": [
    "print(\"Damm it works\")"
   ]
  },
  {
   "cell_type": "code",
   "execution_count": 23,
   "id": "e9e596ce",
   "metadata": {},
   "outputs": [
    {
     "name": "stdout",
     "output_type": "stream",
     "text": [
      "24\n"
     ]
    }
   ],
   "source": [
    "print (12 * 2)"
   ]
  },
  {
   "cell_type": "code",
   "execution_count": 25,
   "id": "911a1663",
   "metadata": {},
   "outputs": [
    {
     "name": "stdout",
     "output_type": "stream",
     "text": [
      "0\n",
      "10\n",
      "20\n",
      "30\n",
      "40\n"
     ]
    }
   ],
   "source": [
    "for i in range(5):\n",
    "    print(10*i)"
   ]
  },
  {
   "cell_type": "code",
   "execution_count": 27,
   "id": "5bc1a477",
   "metadata": {},
   "outputs": [
    {
     "name": "stdout",
     "output_type": "stream",
     "text": [
      "10\n",
      "20\n",
      "30\n",
      "40\n",
      "50\n",
      "60\n",
      "70\n",
      "80\n",
      "90\n",
      "100\n"
     ]
    }
   ],
   "source": [
    "table = 10\n",
    "for i in range(1,11):\n",
    "    print (table * i)"
   ]
  },
  {
   "cell_type": "code",
   "execution_count": 2,
   "id": "421c21d6",
   "metadata": {},
   "outputs": [
    {
     "name": "stdout",
     "output_type": "stream",
     "text": [
      "Collecting numpy\n",
      "  Downloading numpy-1.26.4-cp312-cp312-win_amd64.whl.metadata (61 kB)\n",
      "     ---------------------------------------- 0.0/61.0 kB ? eta -:--:--\n",
      "     ------------------- ------------------ 30.7/61.0 kB 660.6 kB/s eta 0:00:01\n",
      "     ---------------------------------------- 61.0/61.0 kB 1.1 MB/s eta 0:00:00\n",
      "Downloading numpy-1.26.4-cp312-cp312-win_amd64.whl (15.5 MB)\n",
      "   ---------------------------------------- 0.0/15.5 MB ? eta -:--:--\n",
      "    --------------------------------------- 0.3/15.5 MB 6.3 MB/s eta 0:00:03\n",
      "   - -------------------------------------- 0.6/15.5 MB 6.9 MB/s eta 0:00:03\n",
      "   -- ------------------------------------- 0.9/15.5 MB 7.1 MB/s eta 0:00:03\n",
      "   -- ------------------------------------- 1.1/15.5 MB 6.3 MB/s eta 0:00:03\n",
      "   --- ------------------------------------ 1.3/15.5 MB 6.2 MB/s eta 0:00:03\n",
      "   --- ------------------------------------ 1.5/15.5 MB 5.7 MB/s eta 0:00:03\n",
      "   ---- ----------------------------------- 1.7/15.5 MB 5.8 MB/s eta 0:00:03\n",
      "   ----- ---------------------------------- 2.0/15.5 MB 5.7 MB/s eta 0:00:03\n",
      "   ----- ---------------------------------- 2.3/15.5 MB 5.7 MB/s eta 0:00:03\n",
      "   ------ --------------------------------- 2.4/15.5 MB 5.7 MB/s eta 0:00:03\n",
      "   ------ --------------------------------- 2.7/15.5 MB 5.7 MB/s eta 0:00:03\n",
      "   ------- -------------------------------- 2.9/15.5 MB 5.7 MB/s eta 0:00:03\n",
      "   -------- ------------------------------- 3.2/15.5 MB 5.5 MB/s eta 0:00:03\n",
      "   --------- ------------------------------ 3.5/15.5 MB 5.7 MB/s eta 0:00:03\n",
      "   --------- ------------------------------ 3.7/15.5 MB 5.6 MB/s eta 0:00:03\n",
      "   ---------- ----------------------------- 4.0/15.5 MB 5.7 MB/s eta 0:00:03\n",
      "   ---------- ----------------------------- 4.2/15.5 MB 5.6 MB/s eta 0:00:03\n",
      "   ----------- ---------------------------- 4.5/15.5 MB 5.6 MB/s eta 0:00:02\n",
      "   ------------ --------------------------- 4.7/15.5 MB 5.6 MB/s eta 0:00:02\n",
      "   ------------ --------------------------- 4.9/15.5 MB 5.6 MB/s eta 0:00:02\n",
      "   ------------- -------------------------- 5.2/15.5 MB 5.7 MB/s eta 0:00:02\n",
      "   -------------- ------------------------- 5.5/15.5 MB 5.6 MB/s eta 0:00:02\n",
      "   -------------- ------------------------- 5.7/15.5 MB 5.6 MB/s eta 0:00:02\n",
      "   --------------- ------------------------ 5.9/15.5 MB 5.6 MB/s eta 0:00:02\n",
      "   --------------- ------------------------ 6.2/15.5 MB 5.6 MB/s eta 0:00:02\n",
      "   ---------------- ----------------------- 6.4/15.5 MB 5.6 MB/s eta 0:00:02\n",
      "   ----------------- ---------------------- 6.7/15.5 MB 5.5 MB/s eta 0:00:02\n",
      "   ------------------ --------------------- 7.1/15.5 MB 5.8 MB/s eta 0:00:02\n",
      "   ------------------ --------------------- 7.2/15.5 MB 5.7 MB/s eta 0:00:02\n",
      "   ------------------- -------------------- 7.5/15.5 MB 5.7 MB/s eta 0:00:02\n",
      "   ------------------- -------------------- 7.6/15.5 MB 5.6 MB/s eta 0:00:02\n",
      "   -------------------- ------------------- 7.8/15.5 MB 5.5 MB/s eta 0:00:02\n",
      "   -------------------- ------------------- 8.1/15.5 MB 5.5 MB/s eta 0:00:02\n",
      "   --------------------- ------------------ 8.3/15.5 MB 5.5 MB/s eta 0:00:02\n",
      "   --------------------- ------------------ 8.5/15.5 MB 5.5 MB/s eta 0:00:02\n",
      "   ---------------------- ----------------- 8.7/15.5 MB 5.5 MB/s eta 0:00:02\n",
      "   ----------------------- ---------------- 9.0/15.5 MB 5.5 MB/s eta 0:00:02\n",
      "   ----------------------- ---------------- 9.2/15.5 MB 5.5 MB/s eta 0:00:02\n",
      "   ------------------------ --------------- 9.5/15.5 MB 5.5 MB/s eta 0:00:02\n",
      "   ------------------------- -------------- 9.7/15.5 MB 5.5 MB/s eta 0:00:02\n",
      "   ------------------------- -------------- 10.0/15.5 MB 5.5 MB/s eta 0:00:02\n",
      "   -------------------------- ------------- 10.2/15.5 MB 5.5 MB/s eta 0:00:01\n",
      "   --------------------------- ------------ 10.5/15.5 MB 5.5 MB/s eta 0:00:01\n",
      "   --------------------------- ------------ 10.8/15.5 MB 5.5 MB/s eta 0:00:01\n",
      "   ---------------------------- ----------- 11.0/15.5 MB 5.4 MB/s eta 0:00:01\n",
      "   ----------------------------- ---------- 11.3/15.5 MB 5.5 MB/s eta 0:00:01\n",
      "   ----------------------------- ---------- 11.5/15.5 MB 5.5 MB/s eta 0:00:01\n",
      "   ------------------------------ --------- 11.8/15.5 MB 5.5 MB/s eta 0:00:01\n",
      "   ------------------------------- -------- 12.1/15.5 MB 5.5 MB/s eta 0:00:01\n",
      "   ------------------------------- -------- 12.3/15.5 MB 5.5 MB/s eta 0:00:01\n",
      "   -------------------------------- ------- 12.5/15.5 MB 5.4 MB/s eta 0:00:01\n",
      "   -------------------------------- ------- 12.7/15.5 MB 5.5 MB/s eta 0:00:01\n",
      "   --------------------------------- ------ 13.0/15.5 MB 5.5 MB/s eta 0:00:01\n",
      "   --------------------------------- ------ 13.2/15.5 MB 5.4 MB/s eta 0:00:01\n",
      "   ---------------------------------- ----- 13.4/15.5 MB 5.4 MB/s eta 0:00:01\n",
      "   ----------------------------------- ---- 13.6/15.5 MB 5.4 MB/s eta 0:00:01\n",
      "   ----------------------------------- ---- 13.9/15.5 MB 5.4 MB/s eta 0:00:01\n",
      "   ------------------------------------ --- 14.1/15.5 MB 5.4 MB/s eta 0:00:01\n",
      "   ------------------------------------- -- 14.4/15.5 MB 5.4 MB/s eta 0:00:01\n",
      "   ------------------------------------- -- 14.6/15.5 MB 5.4 MB/s eta 0:00:01\n",
      "   -------------------------------------- - 14.8/15.5 MB 5.4 MB/s eta 0:00:01\n",
      "   -------------------------------------- - 15.1/15.5 MB 5.4 MB/s eta 0:00:01\n",
      "   ---------------------------------------  15.3/15.5 MB 5.4 MB/s eta 0:00:01\n",
      "   ---------------------------------------  15.5/15.5 MB 5.4 MB/s eta 0:00:01\n",
      "   ---------------------------------------- 15.5/15.5 MB 5.2 MB/s eta 0:00:00\n",
      "Installing collected packages: numpy\n",
      "Successfully installed numpy-1.26.4\n",
      "Note: you may need to restart the kernel to use updated packages.\n"
     ]
    }
   ],
   "source": [
    "pip install numpy"
   ]
  },
  {
   "cell_type": "code",
   "execution_count": 3,
   "id": "9990caee",
   "metadata": {},
   "outputs": [],
   "source": [
    "import numpy as np\n"
   ]
  },
  {
   "cell_type": "code",
   "execution_count": null,
   "id": "e7469fb3",
   "metadata": {},
   "outputs": [],
   "source": []
  }
 ],
 "metadata": {
  "kernelspec": {
   "display_name": "Python 3 (ipykernel)",
   "language": "python",
   "name": "python3"
  },
  "language_info": {
   "codemirror_mode": {
    "name": "ipython",
    "version": 3
   },
   "file_extension": ".py",
   "mimetype": "text/x-python",
   "name": "python",
   "nbconvert_exporter": "python",
   "pygments_lexer": "ipython3",
   "version": "3.12.2"
  }
 },
 "nbformat": 4,
 "nbformat_minor": 5
}
