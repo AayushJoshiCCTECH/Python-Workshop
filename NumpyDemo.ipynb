{
 "cells": [
  {
   "cell_type": "code",
   "execution_count": 3,
   "id": "f2edccdd-442f-404e-845f-074d7007bea7",
   "metadata": {},
   "outputs": [],
   "source": [
    "import numpy as np\n"
   ]
  },
  {
   "cell_type": "code",
   "execution_count": 15,
   "id": "3678ff08-ecf9-4f72-a62e-fbbbac90cbf1",
   "metadata": {},
   "outputs": [
    {
     "data": {
      "text/plain": [
       "array([[1, 2, 3],\n",
       "       [2, 3, 4]])"
      ]
     },
     "execution_count": 15,
     "metadata": {},
     "output_type": "execute_result"
    }
   ],
   "source": [
    "a = np.array([[1,2,3],[2,3,4]])\n",
    "a"
   ]
  },
  {
   "cell_type": "code",
   "execution_count": 17,
   "id": "bde660bc-1104-4852-8777-db9a8462e2d5",
   "metadata": {},
   "outputs": [
    {
     "data": {
      "text/plain": [
       "(2, 3)"
      ]
     },
     "execution_count": 17,
     "metadata": {},
     "output_type": "execute_result"
    }
   ],
   "source": [
    "a.shape"
   ]
  },
  {
   "cell_type": "code",
   "execution_count": 21,
   "id": "a147b10d-a90e-4266-9112-e7465f1a366f",
   "metadata": {},
   "outputs": [
    {
     "data": {
      "text/plain": [
       "array([[1, 2],\n",
       "       [3, 2],\n",
       "       [3, 4]])"
      ]
     },
     "execution_count": 21,
     "metadata": {},
     "output_type": "execute_result"
    }
   ],
   "source": [
    "a.reshape(3,2)"
   ]
  },
  {
   "cell_type": "code",
   "execution_count": 20,
   "id": "9199d7ff-e53c-4458-9511-df309cc7d01d",
   "metadata": {},
   "outputs": [
    {
     "name": "stdout",
     "output_type": "stream",
     "text": [
      "Result matrix is\n",
      "1  2  3  4  \n",
      "2  2  3  4  \n",
      "3  3  3  4  \n",
      "4  4  4  4  \n"
     ]
    }
   ],
   "source": [
    "N = 4\n",
    "def transpose(A,B): \n",
    " \n",
    " for i in range(N): \n",
    "  for j in range(N): \n",
    "   B[i][j] = A[j][i] \n",
    " \n",
    "# driver code \n",
    "A = [ [1, 1, 1, 1], \n",
    " [2, 2, 2, 2], \n",
    " [3, 3, 3, 3], \n",
    " [4, 4, 4, 4]] \n",
    " \n",
    " \n",
    "B = A[:][:] # To store result \n",
    " \n",
    "transpose(A, B) \n",
    " \n",
    "print(\"Result matrix is\") \n",
    "for i in range(N): \n",
    " for j in range(N): \n",
    "  print(B[i][j], \" \", end='') \n",
    " print() "
   ]
  },
  {
   "cell_type": "code",
   "execution_count": 24,
   "id": "e3d46302-9e81-4309-bc92-f38a2ca8f315",
   "metadata": {},
   "outputs": [
    {
     "name": "stdout",
     "output_type": "stream",
     "text": [
      "[0. 0. 0. 0. 0.]\n"
     ]
    }
   ],
   "source": [
    "x = np.zeros(5)\n",
    "print(x)"
   ]
  },
  {
   "cell_type": "code",
   "execution_count": 25,
   "id": "7d2eb4cf-156b-45e7-a119-16e58eeae896",
   "metadata": {},
   "outputs": [
    {
     "data": {
      "text/plain": [
       "array([0., 0., 0., 0., 0.])"
      ]
     },
     "execution_count": 25,
     "metadata": {},
     "output_type": "execute_result"
    }
   ],
   "source": [
    "x\n"
   ]
  },
  {
   "cell_type": "code",
   "execution_count": 30,
   "id": "6710fd1d-92a3-42b9-9501-a77d90f811de",
   "metadata": {},
   "outputs": [
    {
     "name": "stdout",
     "output_type": "stream",
     "text": [
      "[10 12 14 16 18]\n"
     ]
    }
   ],
   "source": [
    "x = np.arange(10,20,2)\n",
    "print (x)"
   ]
  },
  {
   "cell_type": "code",
   "execution_count": null,
   "id": "3830105c-fc4b-4603-99bb-7d747e6d9cc2",
   "metadata": {},
   "outputs": [],
   "source": []
  }
 ],
 "metadata": {
  "kernelspec": {
   "display_name": "Python 3 (ipykernel)",
   "language": "python",
   "name": "python3"
  },
  "language_info": {
   "codemirror_mode": {
    "name": "ipython",
    "version": 3
   },
   "file_extension": ".py",
   "mimetype": "text/x-python",
   "name": "python",
   "nbconvert_exporter": "python",
   "pygments_lexer": "ipython3",
   "version": "3.11.5"
  }
 },
 "nbformat": 4,
 "nbformat_minor": 5
}
